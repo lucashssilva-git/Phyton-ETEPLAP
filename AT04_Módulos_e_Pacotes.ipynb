{
  "nbformat": 4,
  "nbformat_minor": 0,
  "metadata": {
    "colab": {
      "provenance": []
    },
    "kernelspec": {
      "name": "python3",
      "display_name": "Python 3"
    },
    "language_info": {
      "name": "python"
    }
  },
  "cells": [
    {
      "cell_type": "code",
      "execution_count": 1,
      "metadata": {
        "colab": {
          "base_uri": "https://localhost:8080/"
        },
        "id": "rb9RwqAd6zG6",
        "outputId": "a34e8d0b-456f-4020-d760-e202f8284270"
      },
      "outputs": [
        {
          "output_type": "stream",
          "name": "stdout",
          "text": [
            "2 - Média: 14\n",
            "2 - Mediana: 14.0\n",
            "3 - Média com alias: 14\n",
            "3 - Mediana com alias: 14.0\n",
            "4 - Média com funções importadas: 14\n",
            "4 - Mediana com funções importadas: 14.0\n",
            "5 - Média com import *: 14\n",
            "5 - Mediana com import *: 14.0\n"
          ]
        }
      ],
      "source": [
        "# 1 - Primeiro, vou importar o módulo statistics completo\n",
        "import statistics\n",
        "\n",
        "# Agora, crio uma lista com 14 números em ordem crescente\n",
        "numeros = [1, 3, 5, 7, 9, 11, 13, 15, 17, 19, 21, 23, 25, 27]\n",
        "\n",
        "# 2 - Usando o módulo completo para calcular a média e a mediana\n",
        "media = statistics.mean(numeros)     # Aqui eu calculo a média dos números\n",
        "mediana = statistics.median(numeros) # Aqui eu calculo a mediana dos números\n",
        "\n",
        "print(\"2 - Média:\", media)\n",
        "print(\"2 - Mediana:\", mediana)\n",
        "\n",
        "# 3 - Agora vou usar um apelido (alias) para o módulo statistics\n",
        "import statistics as st\n",
        "\n",
        "# Refazendo os cálculos com o alias\n",
        "media_alias = st.mean(numeros)       # Calculo a média usando o alias \"st\"\n",
        "mediana_alias = st.median(numeros)   # Calculo a mediana com o alias também\n",
        "\n",
        "print(\"3 - Média com alias:\", media_alias)\n",
        "print(\"3 - Mediana com alias:\", mediana_alias)\n",
        "\n",
        "# 4 - Agora vou importar apenas as funções mean e median diretamente\n",
        "from statistics import mean, median\n",
        "\n",
        "# E refaço os cálculos com essas funções importadas\n",
        "media_funcoes = mean(numeros)        # Calculo a média sem precisar usar o nome do módulo\n",
        "mediana_funcoes = median(numeros)    # O mesmo para a mediana\n",
        "\n",
        "print(\"4 - Média com funções importadas:\", media_funcoes)\n",
        "print(\"4 - Mediana com funções importadas:\", mediana_funcoes)\n",
        "\n",
        "# 5 - Por fim, vou importar todas as funções do módulo statistics de uma vez\n",
        "from statistics import *\n",
        "\n",
        "# Agora posso usar qualquer função diretamente\n",
        "media_tudo = mean(numeros)           # Calculo a média direto\n",
        "mediana_tudo = median(numeros)       # Calculo a mediana direto também\n",
        "\n",
        "print(\"5 - Média com import *:\", media_tudo)\n",
        "print(\"5 - Mediana com import *:\", mediana_tudo)\n"
      ]
    }
  ]
}