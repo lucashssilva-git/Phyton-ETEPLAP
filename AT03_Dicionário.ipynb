{
  "nbformat": 4,
  "nbformat_minor": 0,
  "metadata": {
    "colab": {
      "provenance": []
    },
    "kernelspec": {
      "name": "python3",
      "display_name": "Python 3"
    },
    "language_info": {
      "name": "python"
    }
  },
  "cells": [
    {
      "cell_type": "code",
      "source": [
        "# Dicionário\n",
        "notas = {'Teo': 8.5, 'Cristiano': 8.9, 'Matson': 7.7}\n",
        "\n",
        "# 1 - Exibindo a nota do aluno Matson\n",
        "print(\"1 - Nota do Matson:\", notas['Matson'])\n",
        "\n",
        "# 2 - Adicionando um novo aluno chamado \"Bruna\" com a nota 8.7\n",
        "notas['Bruna'] = 8.7\n",
        "\n",
        "# 3 - Atualizando a nota do aluno \"Teo\" para 9.2\n",
        "notas['Teo'] = 9.2\n",
        "\n",
        "# 4 - Verificando se o aluno \"Carlos\" está no dicionário\n",
        "print(\"4 - Carlos está na lista?\", 'Carlos' in notas)\n",
        "\n",
        "# 5 - Apaguando o aluno \"Matson\" do dicionário\n",
        "del notas['Matson']\n",
        "\n",
        "# 6 - Adicionando dois novos alunos com notas\n",
        "notas['Ana'] = 9.5\n",
        "notas['Lucas'] = 7.8\n",
        "\n",
        "# 7 - Mostrando todas as chaves (nomes dos alunos)\n",
        "print(\"7 - Alunos:\", notas.keys())\n",
        "\n",
        "# 8 - Mostrando todos os valores (notas dos alunos)\n",
        "print(\"8 - Notas:\", notas.values())\n",
        "\n",
        "# 9 - Usando .get() para tentar buscar a nota de \"Islla\", e retorne \"Aluno não encontrado\" caso ele não exista\n",
        "nota_islla = notas.get('Islla', 'Aluno não encontrado')\n",
        "print(\"9 - Nota de Islla:\", nota_islla)\n",
        "\n",
        "# 10 - Usando .get() para buscar a nota de algum aluno, e a retorne\n",
        "nota_bruna = notas.get('Bruna')\n",
        "print(\"10 - Nota da Bruna:\", nota_bruna)\n"
      ],
      "metadata": {
        "colab": {
          "base_uri": "https://localhost:8080/"
        },
        "id": "mVXuMpEy5ili",
        "outputId": "34a5a837-fb9c-41ed-e235-cc458d6ee031"
      },
      "execution_count": 2,
      "outputs": [
        {
          "output_type": "stream",
          "name": "stdout",
          "text": [
            "1 - Nota do Matson: 7.7\n",
            "4 - Carlos está na lista? False\n",
            "7 - Alunos: dict_keys(['Teo', 'Cristiano', 'Bruna', 'Ana', 'Lucas'])\n",
            "8 - Notas: dict_values([9.2, 8.9, 8.7, 9.5, 7.8])\n",
            "9 - Nota de Islla: Aluno não encontrado\n",
            "10 - Nota da Bruna: 8.7\n"
          ]
        }
      ]
    }
  ]
}